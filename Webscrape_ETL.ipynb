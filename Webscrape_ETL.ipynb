{
 "cells": [
  {
   "cell_type": "code",
   "execution_count": 219,
   "id": "3ac93079-054c-49e5-b5e3-48f46ce4b8bf",
   "metadata": {},
   "outputs": [],
   "source": [
    "import requests\n",
    "import re\n",
    "from sqlalchemy import create_engine\n",
    "from bs4 import BeautifulSoup as bs\n",
    "from datetime import datetime\n",
    "import pandas as pd\n",
    "import mysql.connector as mysql"
   ]
  },
  {
   "cell_type": "markdown",
   "id": "b5c89a72-48c7-49ab-adf8-47d88e52a5bb",
   "metadata": {},
   "source": [
    "# Scraping Data from web"
   ]
  },
  {
   "cell_type": "code",
   "execution_count": 222,
   "id": "8014387c-4d0b-42ce-b94a-710223df9058",
   "metadata": {},
   "outputs": [],
   "source": [
    "url = 'https://www.myjobmag.co.ke/'\n",
    "req = requests.get(url).content\n",
    "soup = bs(req,'html.parser')"
   ]
  },
  {
   "cell_type": "code",
   "execution_count": 223,
   "id": "26768f79-4b37-4ee8-9d38-284c3f4be1be",
   "metadata": {},
   "outputs": [
    {
     "data": {
      "text/plain": [
       "['Vacancies at Kenya Methodist University (KeMU)',\n",
       " 'Vacancies at U.S. Embassy to Kenya',\n",
       " 'Job Vacancies at Mwananchi Credit Ltd',\n",
       " 'Latest Recruitment at Aga Khan University Hospital',\n",
       " 'Vacancies at Nova Pioneer',\n",
       " 'Vacancies at Plan International',\n",
       " 'Job Opportunities at Compassion International',\n",
       " 'Job Openings at Canonical',\n",
       " 'Retail Operations Coordinator at Human Asset Consultants Ltd',\n",
       " 'Executive Sous Chef at Mambo Italia',\n",
       " 'Business Development Manager – Graduate Programs at Strathmore Business School',\n",
       " 'ICT Technical Support Officer at CIC Insurance',\n",
       " 'Temporary Financial Accountant at The Pharo Foundation',\n",
       " 'Logistics Specialist at SoCha',\n",
       " 'Production Assistant Manager at Grounded',\n",
       " 'Human Resource & Culture Lead at Safaricom Investment Co-operative (S.I.C.)',\n",
       " 'Trade Marketing & Distribution - Office Internship at British American Tobacco (BAT)',\n",
       " 'Human Resources Change Management Specialist at Kenyans.co.ke',\n",
       " 'Vacancies at Pam Nail Care Ltd',\n",
       " 'Private Label Associate - Commercial at Majid Al Futtaim',\n",
       " 'Temporary International Accountant at PATH',\n",
       " 'Systems and Network Administrator at Tangaza University College',\n",
       " 'Latest Recruitment at Vivo Fashion Group',\n",
       " 'Vacancies at LOreal',\n",
       " 'Vacancies at Makueni County Public Service Board']"
      ]
     },
     "execution_count": 223,
     "metadata": {},
     "output_type": "execute_result"
    }
   ],
   "source": [
    "names = soup.find_all('li',class_= \"mag-b\")\n",
    "name = []\n",
    "for i in names:\n",
    "    a = i.find('a')\n",
    "    name.append(a.text)\n",
    "name"
   ]
  },
  {
   "cell_type": "code",
   "execution_count": 224,
   "id": "7c2ad846-21b0-4209-84d8-dd5e1f44f68d",
   "metadata": {},
   "outputs": [
    {
     "data": {
      "text/plain": [
       "['Kenya Methodist University (KeMU) is a Chartered Private Christian Institution of higher learning which aims to contribute to the transformation of our society by providing high quality education that...',\n",
       " 'The U.S. Embassy to Kenya opened in 1964. Through sixteen Ambassadors since then, the Embassy has enriched the ties between the American and Kenyan people and served the needs of Americans in and arou...',\n",
       " 'Mwananchi Credit Limited was incorporated as a private limited company under the Companies Act (Cap 486) of the Laws of Kenya. It initially started operations under the names Mwananchi Microlink Ltd which was incorporated on 15th April 2010. On 10th January 2012, it later changed its names to Mwananchi Credit Limited.',\n",
       " 'Aga Khan University Hospitals in Karachi, Pakistan and Nairobi, Kenya are private, not-for-profit institutions providing high quality health care. The Main Hospitals serve as the principal sites for c...',\n",
       " 'Nova Pioneer Education Group is a Pan-African independent school network offering preschool through secondary education for students from ages 3 through 19. We prepare the next generation of leaders a...',\n",
       " 'Plan International was founded over 75 years ago with a mission to promote and protect the rights of children.\\nThe organisation was set up by British journalist John Langdon-Davies and refugee work...',\n",
       " 'Who is Compassion International? Compassion International is a child-advocacy ministry that pairs compassionate people with those who are suffering from poverty. The ministry releases children from sp...',\n",
       " \"We deliver open source to the world faster, more securely and more cost effectively than any other company. If you're interested in a career at Canonical, we are a remote-first company so please apply to any suitable role as skills are valued more than location, despite some having a preferred geographic preference.\",\n",
       " 'Human Asset Consultants Ltd was founded in August 2008 and is a Human Resources consultancy firm that was inspired by the belief that the success of any entity begins with discovering, developing and...',\n",
       " 'We started in 2011 at Galleria Mall’s food court and quickly won fans for our unique range of gourmet pizzas, handmade using local ingredients as well as Italian meats and cheeses. Our dough is...',\n",
       " 'In our endeavour to transform leadership in Africa in the 21st Century, Strathmore Business School (SBS) has taken the responsibility of influencing leadership of public and private sectors in the con...',\n",
       " 'CIC Insurance Group Limited, commonly referred to as CIC Group, is an insurance and investment group that operates mainly in Kenya, Uganda, South Sudan and Malawi',\n",
       " 'The Pharo Foundation (the ‘’Foundation”) is a privately-funded entrepreneurial organisation that runs philanthropic programmes as well as for-profit social enterprises. The vision of...',\n",
       " 'SoCha (a portmanteau of Social and Change) is an independent Monitoring, Evaluation and Learning (ME&L) firm that provides bespoke solutions to social challenges. Since our inception in 2010, we have grown from a consortium of globally-recognized experts who specialize in evaluating the effectiveness of development assistance, to a full-fledged ME&L services firm that specializes in advancing innovative methodologies and changing the way donors find solutions to social problems.',\n",
       " 'Grounded is both a women- and family-run business. Our goal is to create healthy, sustainable homes through safer, eco-friendly products. Made in Kenya.',\n",
       " 'Safaricom Investment Co-operative (S.I.C.) was set up in 2009 under the Co-operatives Act Cap 490 to pursue joint investments for its members and has been in real estate space since its inception. As...',\n",
       " 'Few companies founded in 1902 are still going from strength to strength. Fewer still are leaders in more than 55 markets. And with one billion adult smokers around the world, we manufacture the cigare...',\n",
       " 'Kenyans.co.ke is a website that features viral news and topical videos. The mobile-friendly website contains the latest news written by a team of professional journalists and writers.\\nThe site has...',\n",
       " 'Our Polishes and Gel Polishes are non-toxic, vegan, fast dry, and of such great quality. We also have a wide range of colors that keep growing over time.\\nPam Nail Care was founded in 2016 out of a passion for nail polish and a gap witnessed in the market to provide quality nail care products and services. Our vision is to be the largest nail care supplier in Kenya. Our mission is to supply great beauty products and services to clients in the region.',\n",
       " 'Founded in 1992, Majid Al Futtaim is the leading shopping mall, retail and leisure pioneer across the Middle East, Africa and Asia.\\nA remarkable business success story, Majid Al Futtaim started fro...',\n",
       " 'PATH is an international organization that drives transformative innovation to save lives and improve health, especially among women and children. We accelerate innovation across five platforms-vaccin...',\n",
       " 'Tangaza University College is a private, Catholic university in Nairobi, Kenya.',\n",
       " \"Vivo's mission is to create economic opportunities in Africa through fashion.\\nOur vision is to see Africa Dressing the World.\\nVivo was founded by Wandia Gichuru and Anne Marie Burugu in 2011.\\n12 ye...\",\n",
       " 'For more than a century, L’OrÃ©al has been involved in the adventure of beauty. The small company founded by EugÃ¨ne Schueller in 1909 has become the number one cosmetics group in the world.',\n",
       " 'Makueni County Public Service Board is established under Section 57 of the County Governments Act 2012. The Board was inaugurated on the 5th of August, 2013 as a body corporate with perpetual successi...']"
      ]
     },
     "execution_count": 224,
     "metadata": {},
     "output_type": "execute_result"
    }
   ],
   "source": [
    "descs = soup.find_all('li',class_='job-desc')\n",
    "desc = []\n",
    "for i in descs:\n",
    "    desc.append(i.text.strip())\n",
    "desc"
   ]
  },
  {
   "cell_type": "code",
   "execution_count": 225,
   "id": "2e57a3c2-ce2d-4f12-8cf2-b87bc5ad4bbc",
   "metadata": {},
   "outputs": [
    {
     "data": {
      "text/plain": [
       "['29-08-2024',\n",
       " '29-08-2024',\n",
       " '29-08-2024',\n",
       " '29-08-2024',\n",
       " '29-08-2024',\n",
       " '29-08-2024',\n",
       " '29-08-2024',\n",
       " '29-08-2024',\n",
       " '29-08-2024',\n",
       " '29-08-2024',\n",
       " '29-08-2024',\n",
       " '29-08-2024',\n",
       " '29-08-2024',\n",
       " '29-08-2024',\n",
       " '29-08-2024',\n",
       " '29-08-2024',\n",
       " '29-08-2024',\n",
       " '29-08-2024',\n",
       " '29-08-2024',\n",
       " '29-08-2024',\n",
       " '29-08-2024',\n",
       " '29-08-2024',\n",
       " '29-08-2024',\n",
       " '29-08-2024',\n",
       " '29-08-2024']"
      ]
     },
     "execution_count": 225,
     "metadata": {},
     "output_type": "execute_result"
    }
   ],
   "source": [
    "dates = soup.find_all('li',id='job-date')\n",
    "datelist = []\n",
    "for i in dates:\n",
    "    adyear = i.text.strip() + ' 2024'\n",
    "    convert = datetime.strptime(adyear , \"%d %B %Y\")\n",
    "    format = convert.strftime(\"%d-%m-%Y\")\n",
    "    datelist.append(format)\n",
    "datelist"
   ]
  },
  {
   "cell_type": "code",
   "execution_count": 226,
   "id": "26cdf538-ad0d-4a95-90b7-81ed14a61b4f",
   "metadata": {},
   "outputs": [
    {
     "data": {
      "text/plain": [
       "['https://www.myjobmag.co.ke//jobs/vacancies-at-kenya-methodist-university-kemu-2',\n",
       " 'https://www.myjobmag.co.ke//jobs/vacancies-at-u-s-embassy-to-kenya-2',\n",
       " 'https://www.myjobmag.co.ke//jobs/job-vacancies-at-mwananchi-credit-ltd',\n",
       " 'https://www.myjobmag.co.ke//jobs/latest-recruitment-at-aga-khan-university-hospital-7',\n",
       " 'https://www.myjobmag.co.ke//jobs/administrative-assistant-tatu-girls-school-at-nova-pioneer',\n",
       " 'https://www.myjobmag.co.ke//jobs/vacancies-at-plan-international-11',\n",
       " 'https://www.myjobmag.co.ke//jobs/trips-and-visits-specialist-i-at-compassion-international',\n",
       " 'https://www.myjobmag.co.ke//jobs/accounts-payable-clerk-entry-level-opportunity-at-canonical-1',\n",
       " 'https://www.myjobmag.co.ke//job/retail-operations-coordinator-human-asset-consultants-ltd',\n",
       " 'https://www.myjobmag.co.ke//job/executive-sous-chef-mambo-italia',\n",
       " 'https://www.myjobmag.co.ke//job/business-development-manager-graduate-programs-strathmore-business-school',\n",
       " 'https://www.myjobmag.co.ke//job/ict-technical-support-officer-cic-insurance-1',\n",
       " 'https://www.myjobmag.co.ke//job/temporary-financial-accountant-the-pharo-foundation',\n",
       " 'https://www.myjobmag.co.ke//job/logistics-specialist-socha',\n",
       " 'https://www.myjobmag.co.ke//job/production-assistant-manager-grounded',\n",
       " 'https://www.myjobmag.co.ke//job/human-resource-culture-lead-safaricom-investment-co-operative-s-i-c',\n",
       " 'https://www.myjobmag.co.ke//job/trade-marketing-distribution-office-internship-british-american-tobacco-bat',\n",
       " 'https://www.myjobmag.co.ke//job/human-resources-change-management-specialist-kenyans-co-ke',\n",
       " 'https://www.myjobmag.co.ke//jobs/vacancies-at-pam-nail-care-ltd',\n",
       " 'https://www.myjobmag.co.ke//job/private-label-associate-commercial-majid-al-futtaim',\n",
       " 'https://www.myjobmag.co.ke//job/temporary-international-accountant-path-1',\n",
       " 'https://www.myjobmag.co.ke//job/systems-and-network-administrator-tangaza-university-college',\n",
       " 'https://www.myjobmag.co.ke//jobs/latest-recruitment-at-vivo-fashion-group',\n",
       " 'https://www.myjobmag.co.ke//jobs/vacancies-at-loreal',\n",
       " 'https://www.myjobmag.co.ke//jobs/vacancies-at-makueni-county-public-service-board']"
      ]
     },
     "execution_count": 226,
     "metadata": {},
     "output_type": "execute_result"
    }
   ],
   "source": [
    "h2 = soup.find_all('li' ,class_='mag-b')\n",
    "\n",
    "link = []\n",
    "for i in h2:\n",
    "    a = i.find('a', href=True)\n",
    "    convert = a.get('href')\n",
    "    format = url + convert\n",
    "    link.append(format)\n",
    "link"
   ]
  },
  {
   "cell_type": "code",
   "execution_count": 227,
   "id": "2df25b7b-9d3b-48fe-9e3e-e2f0c60d73e5",
   "metadata": {},
   "outputs": [
    {
     "data": {
      "text/html": [
       "<div>\n",
       "<style scoped>\n",
       "    .dataframe tbody tr th:only-of-type {\n",
       "        vertical-align: middle;\n",
       "    }\n",
       "\n",
       "    .dataframe tbody tr th {\n",
       "        vertical-align: top;\n",
       "    }\n",
       "\n",
       "    .dataframe thead th {\n",
       "        text-align: right;\n",
       "    }\n",
       "</style>\n",
       "<table border=\"1\" class=\"dataframe\">\n",
       "  <thead>\n",
       "    <tr style=\"text-align: right;\">\n",
       "      <th></th>\n",
       "      <th>Title</th>\n",
       "      <th>Desc</th>\n",
       "      <th>Date</th>\n",
       "      <th>Job Link</th>\n",
       "    </tr>\n",
       "  </thead>\n",
       "  <tbody>\n",
       "    <tr>\n",
       "      <th>0</th>\n",
       "      <td>Vacancies at Kenya Methodist University (KeMU)</td>\n",
       "      <td>Kenya Methodist University (KeMU) is a Charter...</td>\n",
       "      <td>29-08-2024</td>\n",
       "      <td>https://www.myjobmag.co.ke//jobs/vacancies-at-...</td>\n",
       "    </tr>\n",
       "    <tr>\n",
       "      <th>1</th>\n",
       "      <td>Vacancies at U.S. Embassy to Kenya</td>\n",
       "      <td>The U.S. Embassy to Kenya opened in 1964. Thro...</td>\n",
       "      <td>29-08-2024</td>\n",
       "      <td>https://www.myjobmag.co.ke//jobs/vacancies-at-...</td>\n",
       "    </tr>\n",
       "    <tr>\n",
       "      <th>2</th>\n",
       "      <td>Job Vacancies at Mwananchi Credit Ltd</td>\n",
       "      <td>Mwananchi Credit Limited was incorporated as a...</td>\n",
       "      <td>29-08-2024</td>\n",
       "      <td>https://www.myjobmag.co.ke//jobs/job-vacancies...</td>\n",
       "    </tr>\n",
       "    <tr>\n",
       "      <th>3</th>\n",
       "      <td>Latest Recruitment at Aga Khan University Hosp...</td>\n",
       "      <td>Aga Khan University Hospitals in Karachi, Paki...</td>\n",
       "      <td>29-08-2024</td>\n",
       "      <td>https://www.myjobmag.co.ke//jobs/latest-recrui...</td>\n",
       "    </tr>\n",
       "    <tr>\n",
       "      <th>4</th>\n",
       "      <td>Vacancies at Nova Pioneer</td>\n",
       "      <td>Nova Pioneer Education Group is a Pan-African ...</td>\n",
       "      <td>29-08-2024</td>\n",
       "      <td>https://www.myjobmag.co.ke//jobs/administrativ...</td>\n",
       "    </tr>\n",
       "  </tbody>\n",
       "</table>\n",
       "</div>"
      ],
      "text/plain": [
       "                                               Title  \\\n",
       "0     Vacancies at Kenya Methodist University (KeMU)   \n",
       "1                 Vacancies at U.S. Embassy to Kenya   \n",
       "2              Job Vacancies at Mwananchi Credit Ltd   \n",
       "3  Latest Recruitment at Aga Khan University Hosp...   \n",
       "4                          Vacancies at Nova Pioneer   \n",
       "\n",
       "                                                Desc        Date  \\\n",
       "0  Kenya Methodist University (KeMU) is a Charter...  29-08-2024   \n",
       "1  The U.S. Embassy to Kenya opened in 1964. Thro...  29-08-2024   \n",
       "2  Mwananchi Credit Limited was incorporated as a...  29-08-2024   \n",
       "3  Aga Khan University Hospitals in Karachi, Paki...  29-08-2024   \n",
       "4  Nova Pioneer Education Group is a Pan-African ...  29-08-2024   \n",
       "\n",
       "                                            Job Link  \n",
       "0  https://www.myjobmag.co.ke//jobs/vacancies-at-...  \n",
       "1  https://www.myjobmag.co.ke//jobs/vacancies-at-...  \n",
       "2  https://www.myjobmag.co.ke//jobs/job-vacancies...  \n",
       "3  https://www.myjobmag.co.ke//jobs/latest-recrui...  \n",
       "4  https://www.myjobmag.co.ke//jobs/administrativ...  "
      ]
     },
     "execution_count": 227,
     "metadata": {},
     "output_type": "execute_result"
    }
   ],
   "source": [
    "data = {\n",
    "    'Title':name,\n",
    "    'Desc': desc,\n",
    "    'Date': datelist,\n",
    "    'Job Link':link\n",
    "}\n",
    "job_df = pd.DataFrame(data)\n",
    "# f = job_df.transpose()\n",
    "job_df.head()"
   ]
  },
  {
   "cell_type": "markdown",
   "id": "8a1b07b0-6d7a-431d-93dc-730c7a38da95",
   "metadata": {},
   "source": [
    "# Connect & Load to MySQL"
   ]
  },
  {
   "cell_type": "code",
   "execution_count": 243,
   "id": "aa515c06-1df2-469e-9976-7ddaec78dd2f",
   "metadata": {},
   "outputs": [],
   "source": [
    "connect = mysql.connect(host = '127.0.0.1',\n",
    "user = 'root',\n",
    "password = '')\n",
    "cursor = connect.cursor()"
   ]
  },
  {
   "cell_type": "code",
   "execution_count": 244,
   "id": "30e8b851-1191-4c5f-b897-cec38e0256b9",
   "metadata": {},
   "outputs": [],
   "source": [
    "cursor.execute('use simple_etl;')"
   ]
  },
  {
   "cell_type": "code",
   "execution_count": 237,
   "id": "4438b3f8-18eb-442a-bb85-50e62307b24b",
   "metadata": {},
   "outputs": [],
   "source": [
    "host = '127.0.0.1'\n",
    "user = 'root'\n",
    "password = ''\n",
    "dbname = 'simple_etl'\n",
    "engine = create_engine(f'mysql+mysqlconnector://{user}:{password}@{host}/{dbname}')\n",
    "job_df.to_sql('webdate', con=engine , index=False , if_exists='replace' )\n",
    "engine.dispose()\n",
    "connect.close()"
   ]
  }
 ],
 "metadata": {
  "kernelspec": {
   "display_name": "Python 3 (ipykernel)",
   "language": "python",
   "name": "python3"
  },
  "language_info": {
   "codemirror_mode": {
    "name": "ipython",
    "version": 3
   },
   "file_extension": ".py",
   "mimetype": "text/x-python",
   "name": "python",
   "nbconvert_exporter": "python",
   "pygments_lexer": "ipython3",
   "version": "3.12.4"
  }
 },
 "nbformat": 4,
 "nbformat_minor": 5
}
